{
 "cells": [
  {
   "cell_type": "markdown",
   "id": "b03a155a",
   "metadata": {},
   "source": [
    "# Try It Activity 22.1: Reading Big Data\n",
    "\n",
    "### Learning Outcome Addressed:\n",
    "\n",
    "- 1. Compare applications of the Parquet and Feather formats to reading and writing big data.\n",
    "\n",
    "## Try It Activity Overview:\n",
    "\n",
    "In this Try It activity, you will be challenged to compare the reading and writing performances of the Apache Parquet and Feather formats on a *dataframe* with 2,000,000 rows."
   ]
  },
  {
   "cell_type": "markdown",
   "id": "caac9fc6",
   "metadata": {},
   "source": [
    "## Part 1: Initializing the *Dataframe*\n",
    "\n",
    "In the first part of this activity, you will create a toy *dataframe* titled `df` with 2,000,000 rows and 10 columns named from `A` to `J`. The first five columns will contain a random floating point number. The sixth and seventh columns will contain a random integer number between 0 and 10. The eighth and ninth columns will contain a random number between 0 and 1. Finally, the last column will contain a random Latin word from the `sentence` *module* in the `lorem` *library*.\n",
    "\n",
    "Run the code cell below to create the `df` *dataframe*."
   ]
  },
  {
   "cell_type": "code",
   "execution_count": 1,
   "id": "8e29c8a4",
   "metadata": {},
   "outputs": [
    {
     "name": "stderr",
     "output_type": "stream",
     "text": [
      "C:\\Users\\andre\\AppData\\Local\\Temp\\ipykernel_54328\\1790534582.py:16: FutureWarning: ChainedAssignmentError: behaviour will change in pandas 3.0!\n",
      "You are setting values through chained assignment. Currently this works in certain cases, but when using Copy-on-Write (which will become the default behaviour in pandas 3.0) this will never work to update the original DataFrame or Series, because the intermediate object on which we are setting values will behave as a copy.\n",
      "A typical example is when you are setting values in a column of a DataFrame, like:\n",
      "\n",
      "df[\"col\"][row_indexer] = value\n",
      "\n",
      "Use `df.loc[row_indexer, \"col\"] = values` instead, to perform the assignment in a single step and ensure this keeps updating the original `df`.\n",
      "\n",
      "See the caveats in the documentation: https://pandas.pydata.org/pandas-docs/stable/user_guide/indexing.html#returning-a-view-versus-a-copy\n",
      "\n",
      "  df[\"A\"][::10] = np.nan\n"
     ]
    }
   ],
   "source": [
    "import numpy as np\n",
    "import pandas as pd\n",
    "from lorem import sentence\n",
    "\n",
    "words = np.array(sentence().strip().lower().replace(\".\", \" \").split())\n",
    "\n",
    "# Set the seed so that the numbers can be reproduced.\n",
    "np.random.seed(0)  \n",
    "n = 2000000\n",
    "df = pd.DataFrame(np.c_[np.random.randn(n, 5),\n",
    "                  np.random.randint(0,10,(n, 2)),\n",
    "                  np.random.randint(0,1,(n, 2)),\n",
    "np.array([np.random.choice(words) for i in range(n)])] , \n",
    "columns=list('ABCDEFGHIJ'))\n",
    "\n",
    "df[\"A\"][::10] = np.nan"
   ]
  },
  {
   "cell_type": "markdown",
   "id": "e2702b50",
   "metadata": {},
   "source": [
    "Run the code cell below to visualize the first five rows in the `df` *dataframe*."
   ]
  },
  {
   "cell_type": "code",
   "execution_count": null,
   "id": "703e1cf4",
   "metadata": {},
   "outputs": [],
   "source": [
    "df.head()"
   ]
  },
  {
   "cell_type": "markdown",
   "id": "08f50715",
   "metadata": {},
   "source": [
    "## Part 2: Writing to the Parquet and Feather Formats\n",
    "\n",
    "Now it's time for you to write the data in the `df` *dataframe* to the Parquet and Feather formats and compare the performances.\n",
    "\n",
    "**NOTE:** In the code cell below, the `%%time` *function* is called to calculate how long it takes to the code to execute.\n",
    "\n",
    "### Question 1\n",
    "\n",
    "Complete the code in the code cell below to write the data in the `df` *dataframe* to Parquet format. Name the file that will contain the `df.parquet` data."
   ]
  },
  {
   "cell_type": "code",
   "execution_count": null,
   "id": "9af33bfb",
   "metadata": {},
   "outputs": [],
   "source": [
    "%%time\n",
    "\n",
    "#complete the code below\n",
    "df."
   ]
  },
  {
   "cell_type": "markdown",
   "id": "628c755e",
   "metadata": {},
   "source": [
    "### Question 2\n",
    "\n",
    "Complete the code in the code cell below to write the data in the `df` *dataframe* to Feather format. Name the file that will contain the `df.ftr` data."
   ]
  },
  {
   "cell_type": "code",
   "execution_count": null,
   "id": "d30c25b9",
   "metadata": {},
   "outputs": [],
   "source": [
    "%%time\n",
    "\n",
    "#complete the code below\n",
    "df."
   ]
  },
  {
   "cell_type": "markdown",
   "id": "ffbb665b",
   "metadata": {},
   "source": [
    "## Part 3: Reading the Parquet and Feather Formats\n",
    "\n",
    "Finally, it's time for you to read the data stored in the Parquet and Feather formats and compare the performances.\n",
    "\n",
    "### Question 3\n",
    "\n",
    "Complete the code in the code cell below to read the data that you stored in Parquet format in Part 2. Assign the new *dataframe* to the `df_parquet` variable."
   ]
  },
  {
   "cell_type": "code",
   "execution_count": null,
   "id": "00484e84",
   "metadata": {},
   "outputs": [],
   "source": [
    "%%time\n",
    "\n",
    "#complete the code below\n",
    "df_parquet = "
   ]
  },
  {
   "cell_type": "markdown",
   "id": "a9f1ca70",
   "metadata": {},
   "source": [
    "### Question 4\n",
    "\n",
    "Complete the code in the code cell below to read the data that you stored in Feather format in Part 2. Assign the new *dataframe* to the `df_feather` variable."
   ]
  },
  {
   "cell_type": "code",
   "execution_count": null,
   "id": "78e37e2a",
   "metadata": {},
   "outputs": [],
   "source": [
    "%%time \n",
    "\n",
    "#complete the code below\n",
    "df_feather = "
   ]
  },
  {
   "cell_type": "code",
   "execution_count": null,
   "id": "fe693185",
   "metadata": {},
   "outputs": [],
   "source": []
  }
 ],
 "metadata": {
  "kernelspec": {
   "display_name": "Python 3 (ipykernel)",
   "language": "python",
   "name": "python3"
  },
  "language_info": {
   "codemirror_mode": {
    "name": "ipython",
    "version": 3
   },
   "file_extension": ".py",
   "mimetype": "text/x-python",
   "name": "python",
   "nbconvert_exporter": "python",
   "pygments_lexer": "ipython3",
   "version": "3.11.0"
  }
 },
 "nbformat": 4,
 "nbformat_minor": 5
}
