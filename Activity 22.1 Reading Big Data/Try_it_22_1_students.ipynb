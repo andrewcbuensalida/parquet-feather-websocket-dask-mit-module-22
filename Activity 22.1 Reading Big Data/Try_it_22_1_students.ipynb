{
 "cells": [
  {
   "cell_type": "markdown",
   "id": "b03a155a",
   "metadata": {},
   "source": [
    "# Try It Activity 22.1: Reading Big Data\n",
    "\n",
    "### Learning Outcome Addressed:\n",
    "\n",
    "- 1. Compare applications of the Parquet and Feather formats to reading and writing big data.\n",
    "\n",
    "## Try It Activity Overview:\n",
    "\n",
    "In this Try It activity, you will be challenged to compare the reading and writing performances of the Apache Parquet and Feather formats on a *dataframe* with 2,000,000 rows."
   ]
  },
  {
   "cell_type": "markdown",
   "id": "caac9fc6",
   "metadata": {},
   "source": [
    "## Part 1: Initializing the *Dataframe*\n",
    "\n",
    "In the first part of this activity, you will create a toy *dataframe* titled `df` with 2,000,000 rows and 10 columns named from `A` to `J`. The first five columns will contain a random floating point number. The sixth and seventh columns will contain a random integer number between 0 and 10. The eighth and ninth columns will contain a random number between 0 and 1. Finally, the last column will contain a random Latin word from the `sentence` *module* in the `lorem` *library*.\n",
    "\n",
    "Run the code cell below to create the `df` *dataframe*."
   ]
  },
  {
   "cell_type": "code",
   "execution_count": 2,
   "id": "8e29c8a4",
   "metadata": {},
   "outputs": [
    {
     "name": "stderr",
     "output_type": "stream",
     "text": [
      "C:\\Users\\andre\\AppData\\Local\\Temp\\ipykernel_22028\\1790534582.py:16: FutureWarning: ChainedAssignmentError: behaviour will change in pandas 3.0!\n",
      "You are setting values through chained assignment. Currently this works in certain cases, but when using Copy-on-Write (which will become the default behaviour in pandas 3.0) this will never work to update the original DataFrame or Series, because the intermediate object on which we are setting values will behave as a copy.\n",
      "A typical example is when you are setting values in a column of a DataFrame, like:\n",
      "\n",
      "df[\"col\"][row_indexer] = value\n",
      "\n",
      "Use `df.loc[row_indexer, \"col\"] = values` instead, to perform the assignment in a single step and ensure this keeps updating the original `df`.\n",
      "\n",
      "See the caveats in the documentation: https://pandas.pydata.org/pandas-docs/stable/user_guide/indexing.html#returning-a-view-versus-a-copy\n",
      "\n",
      "  df[\"A\"][::10] = np.nan\n"
     ]
    }
   ],
   "source": [
    "import numpy as np\n",
    "import pandas as pd\n",
    "from lorem import sentence\n",
    "\n",
    "words = np.array(sentence().strip().lower().replace(\".\", \" \").split())\n",
    "\n",
    "# Set the seed so that the numbers can be reproduced.\n",
    "np.random.seed(0)  \n",
    "n = 2000000\n",
    "df = pd.DataFrame(np.c_[np.random.randn(n, 5),\n",
    "                  np.random.randint(0,10,(n, 2)),\n",
    "                  np.random.randint(0,1,(n, 2)),\n",
    "np.array([np.random.choice(words) for i in range(n)])] , \n",
    "columns=list('ABCDEFGHIJ'))\n",
    "\n",
    "df[\"A\"][::10] = np.nan"
   ]
  },
  {
   "cell_type": "markdown",
   "id": "e2702b50",
   "metadata": {},
   "source": [
    "Run the code cell below to visualize the first five rows in the `df` *dataframe*."
   ]
  },
  {
   "cell_type": "code",
   "execution_count": 3,
   "id": "703e1cf4",
   "metadata": {},
   "outputs": [
    {
     "data": {
      "text/html": [
       "<div>\n",
       "<style scoped>\n",
       "    .dataframe tbody tr th:only-of-type {\n",
       "        vertical-align: middle;\n",
       "    }\n",
       "\n",
       "    .dataframe tbody tr th {\n",
       "        vertical-align: top;\n",
       "    }\n",
       "\n",
       "    .dataframe thead th {\n",
       "        text-align: right;\n",
       "    }\n",
       "</style>\n",
       "<table border=\"1\" class=\"dataframe\">\n",
       "  <thead>\n",
       "    <tr style=\"text-align: right;\">\n",
       "      <th></th>\n",
       "      <th>A</th>\n",
       "      <th>B</th>\n",
       "      <th>C</th>\n",
       "      <th>D</th>\n",
       "      <th>E</th>\n",
       "      <th>F</th>\n",
       "      <th>G</th>\n",
       "      <th>H</th>\n",
       "      <th>I</th>\n",
       "      <th>J</th>\n",
       "    </tr>\n",
       "  </thead>\n",
       "  <tbody>\n",
       "    <tr>\n",
       "      <th>0</th>\n",
       "      <td>NaN</td>\n",
       "      <td>0.4001572083672233</td>\n",
       "      <td>0.9787379841057392</td>\n",
       "      <td>2.240893199201458</td>\n",
       "      <td>1.8675579901499675</td>\n",
       "      <td>9</td>\n",
       "      <td>1</td>\n",
       "      <td>0</td>\n",
       "      <td>0</td>\n",
       "      <td>porro</td>\n",
       "    </tr>\n",
       "    <tr>\n",
       "      <th>1</th>\n",
       "      <td>-0.977277879876411</td>\n",
       "      <td>0.9500884175255894</td>\n",
       "      <td>-0.1513572082976979</td>\n",
       "      <td>-0.10321885179355784</td>\n",
       "      <td>0.41059850193837233</td>\n",
       "      <td>0</td>\n",
       "      <td>3</td>\n",
       "      <td>0</td>\n",
       "      <td>0</td>\n",
       "      <td>porro</td>\n",
       "    </tr>\n",
       "    <tr>\n",
       "      <th>2</th>\n",
       "      <td>0.144043571160878</td>\n",
       "      <td>1.454273506962975</td>\n",
       "      <td>0.7610377251469934</td>\n",
       "      <td>0.12167501649282841</td>\n",
       "      <td>0.44386323274542566</td>\n",
       "      <td>4</td>\n",
       "      <td>9</td>\n",
       "      <td>0</td>\n",
       "      <td>0</td>\n",
       "      <td>porro</td>\n",
       "    </tr>\n",
       "    <tr>\n",
       "      <th>3</th>\n",
       "      <td>0.33367432737426683</td>\n",
       "      <td>1.4940790731576061</td>\n",
       "      <td>-0.20515826376580087</td>\n",
       "      <td>0.31306770165090136</td>\n",
       "      <td>-0.8540957393017248</td>\n",
       "      <td>3</td>\n",
       "      <td>4</td>\n",
       "      <td>0</td>\n",
       "      <td>0</td>\n",
       "      <td>magnam</td>\n",
       "    </tr>\n",
       "    <tr>\n",
       "      <th>4</th>\n",
       "      <td>-2.5529898158340787</td>\n",
       "      <td>0.6536185954403606</td>\n",
       "      <td>0.8644361988595057</td>\n",
       "      <td>-0.7421650204064419</td>\n",
       "      <td>2.2697546239876076</td>\n",
       "      <td>6</td>\n",
       "      <td>4</td>\n",
       "      <td>0</td>\n",
       "      <td>0</td>\n",
       "      <td>porro</td>\n",
       "    </tr>\n",
       "  </tbody>\n",
       "</table>\n",
       "</div>"
      ],
      "text/plain": [
       "                     A                   B                     C  \\\n",
       "0                  NaN  0.4001572083672233    0.9787379841057392   \n",
       "1   -0.977277879876411  0.9500884175255894   -0.1513572082976979   \n",
       "2    0.144043571160878   1.454273506962975    0.7610377251469934   \n",
       "3  0.33367432737426683  1.4940790731576061  -0.20515826376580087   \n",
       "4  -2.5529898158340787  0.6536185954403606    0.8644361988595057   \n",
       "\n",
       "                      D                    E  F  G  H  I       J  \n",
       "0     2.240893199201458   1.8675579901499675  9  1  0  0   porro  \n",
       "1  -0.10321885179355784  0.41059850193837233  0  3  0  0   porro  \n",
       "2   0.12167501649282841  0.44386323274542566  4  9  0  0   porro  \n",
       "3   0.31306770165090136  -0.8540957393017248  3  4  0  0  magnam  \n",
       "4   -0.7421650204064419   2.2697546239876076  6  4  0  0   porro  "
      ]
     },
     "execution_count": 3,
     "metadata": {},
     "output_type": "execute_result"
    }
   ],
   "source": [
    "df.head()"
   ]
  },
  {
   "cell_type": "markdown",
   "id": "08f50715",
   "metadata": {},
   "source": [
    "## Part 2: Writing to the Parquet and Feather Formats\n",
    "\n",
    "Now it's time for you to write the data in the `df` *dataframe* to the Parquet and Feather formats and compare the performances.\n",
    "\n",
    "**NOTE:** In the code cell below, the `%%time` *function* is called to calculate how long it takes to the code to execute.\n",
    "\n",
    "### Question 1\n",
    "\n",
    "Complete the code in the code cell below to write the data in the `df` *dataframe* to Parquet format. Name the file that will contain the `df.parquet` data."
   ]
  },
  {
   "cell_type": "code",
   "execution_count": 5,
   "id": "9af33bfb",
   "metadata": {},
   "outputs": [
    {
     "name": "stdout",
     "output_type": "stream",
     "text": [
      "CPU times: total: 1.53 s\n",
      "Wall time: 3.81 s\n"
     ]
    }
   ],
   "source": [
    "%%time\n",
    "\n",
    "#complete the code below\n",
    "df.to_parquet('df.parquet')"
   ]
  },
  {
   "cell_type": "markdown",
   "id": "628c755e",
   "metadata": {},
   "source": [
    "### Question 2\n",
    "\n",
    "Complete the code in the code cell below to write the data in the `df` *dataframe* to Feather format. Name the file that will contain the `df.ftr` data."
   ]
  },
  {
   "cell_type": "code",
   "execution_count": 6,
   "id": "d30c25b9",
   "metadata": {},
   "outputs": [
    {
     "name": "stdout",
     "output_type": "stream",
     "text": [
      "CPU times: total: 641 ms\n",
      "Wall time: 1.57 s\n"
     ]
    }
   ],
   "source": [
    "%%time\n",
    "\n",
    "#complete the code below\n",
    "df.to_feather('df.ftr')"
   ]
  },
  {
   "cell_type": "markdown",
   "id": "ffbb665b",
   "metadata": {},
   "source": [
    "## Part 3: Reading the Parquet and Feather Formats\n",
    "\n",
    "Finally, it's time for you to read the data stored in the Parquet and Feather formats and compare the performances.\n",
    "\n",
    "### Question 3\n",
    "\n",
    "Complete the code in the code cell below to read the data that you stored in Parquet format in Part 2. Assign the new *dataframe* to the `df_parquet` variable."
   ]
  },
  {
   "cell_type": "code",
   "execution_count": 7,
   "id": "00484e84",
   "metadata": {},
   "outputs": [
    {
     "name": "stdout",
     "output_type": "stream",
     "text": [
      "CPU times: total: 2.91 s\n",
      "Wall time: 4.28 s\n"
     ]
    }
   ],
   "source": [
    "%%time\n",
    "\n",
    "#complete the code below\n",
    "df_parquet = pd.read_parquet('df.parquet')"
   ]
  },
  {
   "cell_type": "markdown",
   "id": "a9f1ca70",
   "metadata": {},
   "source": [
    "### Question 4\n",
    "\n",
    "Complete the code in the code cell below to read the data that you stored in Feather format in Part 2. Assign the new *dataframe* to the `df_feather` variable."
   ]
  },
  {
   "cell_type": "code",
   "execution_count": 8,
   "id": "78e37e2a",
   "metadata": {},
   "outputs": [
    {
     "name": "stdout",
     "output_type": "stream",
     "text": [
      "CPU times: total: 1.53 s\n",
      "Wall time: 3.62 s\n"
     ]
    }
   ],
   "source": [
    "%%time \n",
    "\n",
    "#complete the code below\n",
    "df_feather = pd.read_feather('df.ftr')"
   ]
  },
  {
   "cell_type": "code",
   "execution_count": null,
   "id": "fe693185",
   "metadata": {},
   "outputs": [],
   "source": []
  }
 ],
 "metadata": {
  "kernelspec": {
   "display_name": "Python 3 (ipykernel)",
   "language": "python",
   "name": "python3"
  },
  "language_info": {
   "codemirror_mode": {
    "name": "ipython",
    "version": 3
   },
   "file_extension": ".py",
   "mimetype": "text/x-python",
   "name": "python",
   "nbconvert_exporter": "python",
   "pygments_lexer": "ipython3",
   "version": "3.11.0"
  }
 },
 "nbformat": 4,
 "nbformat_minor": 5
}
